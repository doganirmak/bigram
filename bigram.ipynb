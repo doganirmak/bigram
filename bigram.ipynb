{
 "cells": [
  {
   "cell_type": "code",
   "execution_count": 3,
   "id": "464990d3-3683-4a72-8dd4-ee962b5e1847",
   "metadata": {},
   "outputs": [
    {
     "name": "stderr",
     "output_type": "stream",
     "text": [
      "c:\\Users\\dogan.irmak\\Desktop\\my-gpt\\cuda\\Lib\\site-packages\\torch\\nn\\modules\\transformer.py:20: UserWarning: Failed to initialize NumPy: No module named 'numpy' (Triggered internally at ..\\torch\\csrc\\utils\\tensor_numpy.cpp:84.)\n",
      "  device: torch.device = torch.device(torch._C._get_default_device()),  # torch.device('cpu'),\n"
     ]
    },
    {
     "name": "stdout",
     "output_type": "stream",
     "text": [
      "cpu\n"
     ]
    }
   ],
   "source": [
    "import torch\n",
    "import torch.nn as nn\n",
    "from torch.nn import functional as F \n",
    "device = 'cuda' if torch.cuda.is_available() else 'cpu'\n",
    "print(device)\n",
    "block_size = 8\n",
    "batch_size = 4"
   ]
  },
  {
   "cell_type": "code",
   "execution_count": 1,
   "id": "fa4b5359-02b7-4e69-844b-e039812c726e",
   "metadata": {},
   "outputs": [
    {
     "name": "stdout",
     "output_type": "stream",
     "text": [
      "627295\n",
      "Bu kitap beş yüzyıl öncesinden, gerek Eski Kıta'nın ve gerekse\n",
      "Ortadoğu'nun en güçlü simalarından birinin yaşamını ve gerçek­\n",
      "leştirdiği işleri genel çizgileriyle ele alarak anlatmaktadır. Otuz yılı\n",
      "a\n"
     ]
    }
   ],
   "source": [
    "with open('fatih_sultan_mehmet.txt','r', encoding='utf-8') as f:\n",
    "    text = f.read()\n",
    "print(len(text))\n",
    "print(text[:200])\n"
   ]
  },
  {
   "cell_type": "code",
   "execution_count": 5,
   "id": "086964b4-4097-48d8-9400-65c4bb4f68d8",
   "metadata": {},
   "outputs": [
    {
     "name": "stdout",
     "output_type": "stream",
     "text": [
      "['\\n', '\\x0c', ' ', '!', '\"', '%', '&', \"'\", '(', ')', '*', ',', '-', '.', '/', '0', '1', '2', '3', '4', '5', '6', '7', '8', '9', ':', ';', '=', '>', '?', 'A', 'B', 'C', 'D', 'E', 'F', 'G', 'H', 'I', 'J', 'K', 'L', 'M', 'N', 'O', 'P', 'Q', 'R', 'S', 'T', 'U', 'V', 'W', 'X', 'Y', 'Z', '\\\\', ']', '^', 'a', 'b', 'c', 'd', 'e', 'f', 'g', 'h', 'i', 'j', 'k', 'l', 'm', 'n', 'o', 'p', 'q', 'r', 's', 't', 'u', 'v', 'w', 'x', 'y', 'z', '|', '~', '£', '\\xad', '®', '»', 'Â', 'Ç', 'Î', 'Ö', 'Û', 'Ü', 'â', 'ç', 'î', 'ö', 'û', 'ü', 'Ğ', 'ğ', 'İ', 'ı', 'Ş', 'ş', '‘', '’', '“', '”', '•', '■']\n",
      "115\n"
     ]
    }
   ],
   "source": [
    "with open('fatih_sultan_mehmet.txt','r', encoding='utf-8') as f:\n",
    "    text = f.read()\n",
    "chars = sorted(set(text))\n",
    "print(chars)\n",
    "print(len(chars))"
   ]
  },
  {
   "cell_type": "code",
   "execution_count": 6,
   "id": "5dc719ef-a01e-4db7-b5fb-58d7be602b4f",
   "metadata": {},
   "outputs": [
    {
     "name": "stdout",
     "output_type": "stream",
     "text": [
      "[66, 63, 70, 70, 73]\n"
     ]
    }
   ],
   "source": [
    "string_to_int = { ch:i for i,ch in enumerate(chars) }\n",
    "int_to_string = { i:ch for i,ch in enumerate(chars) }\n",
    "encode = lambda s: [string_to_int[c] for c in s]\n",
    "decode = lambda l: ''.join([int_to_string[i] for i in l])\n",
    "\n",
    "print(encode('hello'))"
   ]
  },
  {
   "cell_type": "code",
   "execution_count": 7,
   "id": "2ad9e3f8-333e-4845-8b6a-60f255847b1c",
   "metadata": {},
   "outputs": [
    {
     "name": "stdout",
     "output_type": "stream",
     "text": [
      "hello\n"
     ]
    }
   ],
   "source": [
    "string_to_int = { ch:i for i,ch in enumerate(chars) }\n",
    "int_to_string = { i:ch for i,ch in enumerate(chars) }\n",
    "encode = lambda s: [string_to_int[c] for c in s]\n",
    "decode = lambda l: ''.join([int_to_string[i] for i in l])\n",
    "\n",
    "encoded_hello = encode('hello')\n",
    "decoded_hello = decode(encoded_hello)\n",
    "print(decoded_hello)"
   ]
  },
  {
   "cell_type": "code",
   "execution_count": 8,
   "id": "c15d81f4-1fc0-4beb-9f95-0d269ef55107",
   "metadata": {},
   "outputs": [
    {
     "name": "stdout",
     "output_type": "stream",
     "text": [
      "tensor([ 31,  79,   2,  69,  67,  78,  59,  74,   2,  60,  63, 108,   2,  83,\n",
      "        102,  84,  83, 106,  70,   2, 100,  72,  61,  63,  77,  67,  72,  62,\n",
      "         63,  72,  11,   2,  65,  63,  76,  63,  69,   2,  34,  77,  69,  67,\n",
      "          2,  40, 106,  78,  59,   7,  72, 106,  72,   2,  80,  63,   2,  65,\n",
      "         63,  76,  63,  69,  77,  63,   0,  44,  76,  78,  59,  62,  73, 104,\n",
      "         79,   7,  72,  79,  72,   2,  63,  72,   2,  65, 102,  98,  70, 102,\n",
      "          2,  77,  67,  71,  59,  70,  59,  76, 106,  72,  62,  59,  72,   2,\n",
      "         60,  67])\n"
     ]
    }
   ],
   "source": [
    "string_to_int = { ch:i for i,ch in enumerate(chars) }\n",
    "int_to_string = { i:ch for i,ch in enumerate(chars) }\n",
    "encode = lambda s: [string_to_int[c] for c in s]\n",
    "decode = lambda l: ''.join([int_to_string[i] for i in l])\n",
    "\n",
    "data = torch.tensor(encode(text), dtype=torch.long)\n",
    "print(data[:100])"
   ]
  },
  {
   "cell_type": "code",
   "execution_count": 13,
   "id": "19bb3749-9a9b-441c-8226-e8a2a5af0c9c",
   "metadata": {},
   "outputs": [
    {
     "name": "stdout",
     "output_type": "stream",
     "text": [
      "tensor([180789,  19184, 158607, 451033])\n",
      "inputs:\n",
      "tensor([[ 80,  59,  76,  62, 106,  13,   2,  31],\n",
      "        [108,  63,  83,  67,  72,   2,  73,  72],\n",
      "        [ 76,  59,  62,  59,   2, 100,  72,  63],\n",
      "        [ 59, 108,  59,  71, 106,  72, 106,  72]])\n",
      "targets:\n",
      "tensor([[ 59,  76,  62, 106,  13,   2,  31,  59],\n",
      "        [ 63,  83,  67,  72,   2,  73,  72,  79],\n",
      "        [ 59,  62,  59,   2, 100,  72,  63,  71],\n",
      "        [108,  59,  71, 106,  72, 106,  72,   2]])\n"
     ]
    }
   ],
   "source": [
    "n = int(0.8*len(data))\n",
    "train_data = data[:n]\n",
    "val_data = data[n:]\n",
    "\n",
    "def get_batch(split):\n",
    "    data = train_data if split=='train' else val_data\n",
    "    ix = torch.randint(len(data)-block_size, (batch_size,))\n",
    "    print(ix)\n",
    "\n",
    "    x = torch.stack([data[i:i+block_size] for i in ix])\n",
    "    y = torch.stack([data[i+1:i+block_size+1] for i in ix])\n",
    "    return x.to(device), y.to(device)\n",
    "\n",
    "x, y = get_batch('train')\n",
    "print('inputs:')\n",
    "print(x)\n",
    "print('targets:')\n",
    "print(y)"
   ]
  },
  {
   "cell_type": "code",
   "execution_count": null,
   "id": "d9d69024",
   "metadata": {},
   "outputs": [],
   "source": [
    "class BigramLanguageModel(nn.Module):\n",
    "    def __init__(self, vocab_size)\n",
    "        super().__init__(*args, **kwargs)"
   ]
  },
  {
   "cell_type": "code",
   "execution_count": 11,
   "id": "699850ea-8cbf-425f-9486-06c9d8e09a30",
   "metadata": {},
   "outputs": [
    {
     "name": "stdout",
     "output_type": "stream",
     "text": [
      "when input is tensor([31]) target is tensor(79)\n",
      "when input is tensor([31, 79]) target is tensor(2)\n",
      "when input is tensor([31, 79,  2]) target is tensor(69)\n",
      "when input is tensor([31, 79,  2, 69]) target is tensor(67)\n",
      "when input is tensor([31, 79,  2, 69, 67]) target is tensor(78)\n",
      "when input is tensor([31, 79,  2, 69, 67, 78]) target is tensor(59)\n",
      "when input is tensor([31, 79,  2, 69, 67, 78, 59]) target is tensor(74)\n",
      "when input is tensor([31, 79,  2, 69, 67, 78, 59, 74]) target is tensor(2)\n"
     ]
    }
   ],
   "source": [
    "x = train_data[:block_size]\n",
    "y = train_data[1:block_size+1]\n",
    "\n",
    "for t in range(block_size):\n",
    "    context = x[:t+1]\n",
    "    target = y[t]\n",
    "    print('when input is', context, 'target is', target)"
   ]
  },
  {
   "cell_type": "code",
   "execution_count": null,
   "id": "cbab90e2",
   "metadata": {},
   "outputs": [],
   "source": [
    "# predict the next character given a context of 3 characters\n",
    "\n",
    "class BigramLanguageModel(nn.Module):\n",
    "    def __init__(self, vocab_size, embedding_dim, hidden_dim):\n",
    "        super().__init__()\n",
    "        self.embedding = nn.Embedding(vocab_size, embedding_dim)\n",
    "        self.linear1 = nn.Linear(embedding_dim, hidden_dim)\n",
    "        self.linear2 = nn.Linear(hidden_dim, vocab_size)\n",
    "\n",
    "    def forward(self, x):\n",
    "        x = self.embedding(x)\n",
    "        x = F.relu(self.linear1(x))\n",
    "        x = self.linear2(x)\n",
    "        return x\n",
    "    \n",
    "\n",
    "    def forward(self, x):\n",
    "        x = self.embedding(x)\n",
    "        x = F.relu(self.linear1(x))\n",
    "        x = self.linear2(x)\n",
    "        return x\n",
    "    \n",
    "    def\n",
    "    "
   ]
  }
 ],
 "metadata": {
  "kernelspec": {
   "display_name": "Python 3 (ipykernel)",
   "language": "python",
   "name": "python3"
  },
  "language_info": {
   "codemirror_mode": {
    "name": "ipython",
    "version": 3
   },
   "file_extension": ".py",
   "mimetype": "text/x-python",
   "name": "python",
   "nbconvert_exporter": "python",
   "pygments_lexer": "ipython3",
   "version": "3.11.5"
  }
 },
 "nbformat": 4,
 "nbformat_minor": 5
}
